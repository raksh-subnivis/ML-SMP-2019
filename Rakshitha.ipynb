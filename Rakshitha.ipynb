{
 "cells": [
  {
   "cell_type": "code",
   "execution_count": 23,
   "metadata": {},
   "outputs": [
    {
     "name": "stdout",
     "output_type": "stream",
     "text": [
      "Enter string abcdcba\n",
      "0\n"
     ]
    }
   ],
   "source": [
    "a=input(\"Enter string \")\n",
    "b = \"\" \n",
    "for i in a: \n",
    "    b = i + b \n",
    "if (a==b): \n",
    "        print(\"0\")\n",
    "else :\n",
    "        print(\"-1\")"
   ]
  },
  {
   "cell_type": "code",
   "execution_count": 22,
   "metadata": {},
   "outputs": [
    {
     "name": "stdout",
     "output_type": "stream",
     "text": [
      "Enter date4\n",
      "Enter month in numbers9\n",
      "Enter year1900\n",
      "Not a Leap year\n"
     ]
    }
   ],
   "source": [
    "d=int(input(\"Enter date\"))\n",
    "m=int(input(\"Enter month in numbers\"))\n",
    "y=int(input(\"Enter year\"))\n",
    "if d==29:\n",
    "    if m==2:\n",
    "        if (y%100)%4==0:\n",
    "            if y%400==0:\n",
    "                print(\"Leap year\")\n",
    "else :\n",
    "    print(\"Not a Leap year\")"
   ]
  },
  {
   "cell_type": "code",
   "execution_count": 25,
   "metadata": {},
   "outputs": [
    {
     "name": "stdout",
     "output_type": "stream",
     "text": [
      "Enter numbers sorted in ascending order5 10 15 20 30\n",
      "Enter the number that has to be searched 20\n",
      "20 found at 3\n"
     ]
    }
   ],
   "source": [
    "def b_search(l,key):\n",
    "    first=0\n",
    "    last=len(l)\n",
    "    while first<last:\n",
    "        middle=(first+last)//2\n",
    "        if l[middle]>key:\n",
    "            last=middle\n",
    "        elif l[middle]<key:\n",
    "            first=middle+1\n",
    "        else:\n",
    "            return middle\n",
    "    return -1\n",
    "l=input(\"Enter numbers sorted in ascending order\")\n",
    "l=l.split()\n",
    "l=[int(i) for i in l]\n",
    "key=int(input(\"Enter the number that has to be searched \"))\n",
    "index=b_search(l,key)\n",
    "if index<0:\n",
    "    print(\"{} not found\".format(key))\n",
    "else:\n",
    "    print(\"{} found at {}\".format(key,index))"
   ]
  },
  {
   "cell_type": "code",
   "execution_count": null,
   "metadata": {},
   "outputs": [],
   "source": []
  }
 ],
 "metadata": {
  "kernelspec": {
   "display_name": "Python 3",
   "language": "python",
   "name": "python3"
  },
  "language_info": {
   "codemirror_mode": {
    "name": "ipython",
    "version": 3
   },
   "file_extension": ".py",
   "mimetype": "text/x-python",
   "name": "python",
   "nbconvert_exporter": "python",
   "pygments_lexer": "ipython3",
   "version": "3.7.3"
  }
 },
 "nbformat": 4,
 "nbformat_minor": 2
}
